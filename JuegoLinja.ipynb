from copy import deepcopy
from typing import Tuple, List
from IPython.display import display,clear_output
from ipywidgets import HTML
import math

"""
Explaicion: Cambia de turno
Returns:
        int: el truno cambiado
"""
def cambiarTurno() -> int :
   
    global turno
    if turno==1:
        turno=2
        return turno
    elif turno==2:
        turno=1
        return turno

"""
Explicacion: algoritmo miniMax con pada alfa y beta para que el ordenador pueda jugar
Args:
    state (Tablerolinja): estado del tablero actual 
    currentLevel (int): nivel de profucnidad en el que estamos
    maxLevel (int): nivel maximo de profundidad que buscamos
    player (int): turno del jugador
    alpha (int): poda alfa
    beta (int): poda beta
    stop (bool): metodo para parar de ejcutar el metodo 
Returns:
        Tuple[Tablerolinja, int, bool]: devulve un estado del tablero, la utildad de dicho tablero y si se para o no el metodo 
"""
def miniMax(state:Tablerolinja, currentLevel:int, maxLevel:int, player:int, alpha:int, beta:int, stop:bool) -> Tuple[Tablerolinja, int, bool]:

    matriz=state.getMatrix()
    
    if  currentLevel == maxLevel or state.endGame():
        return matriz, state.utility(), stop

    # Defino las matrices de sucesores
    successorMatrices = matizDeSucesores(player, state)
   
    if len(successorMatrices) == 0:
        stopDigging = True
        coste=state.utility()
        return (state.getMatrix(),coste,stopDigging)
    bestMatrix = None
    
    if player == 2:                    
        maxValue = -math.inf #alpha
        for i in range(0, len(successorMatrices)):            
                mat = Tablerolinja(successorMatrices[i].getMatrix())            
                matrizS, utility, stop = miniMax(mat, currentLevel + 1, maxLevel, 1, alpha,beta,stop)
                if utility > maxValue:
                    maxValue = utility
                    bestMatrix = mat.getMatrix()
                alpha = max(alpha, utility)                
                if utility >= beta:                      
                    return (matrizS,utility,stop)
    else:                          
        minValue = math.inf #beta
        for i in range(0, len(successorMatrices)):
                mat = Tablerolinja(successorMatrices[i].getMatrix())
                matrizS, utility, stop = miniMax(mat, currentLevel + 1, maxLevel, 2, alpha,beta,stop)
                if utility < minValue:
                    minValue = utility
                    bestMatrix =  mat.getMatrix()
                beta = min(beta, utility)
                if utility <= alpha:                    
                   return (matrizS,utility,stop)
    return (bestMatrix,utility,stop)

"""
Explicacion: arbol de los sucesores del metodo miniMax
Args:
    player (int): turno del jugador
    state (Tablerolinja): estado del tablero actual 
Returns:
        List: devulve una lista de los sucesores del tablero 
"""
def matizDeSucesores(player: int, state: Tablerolinja)->List:
    successorMatrices=[]
    for fila in range(8):
        for columna in range(6):
            #Comprueba que la celda no esta vacia y que es del color del turno del jugador
            if state.comprobarFicha(player, fila, columna):
                posiblesMovimientos1 = state.obtenerMovimiento1(fila, columna, player)
                for movimiento1 in posiblesMovimientos1:
                    filaColocar1, columnaColocar1 = movimiento1
                    copia_tablero_1 = Tablerolinja(state.getMatrix())
                    copia_tablero_1.moverFicha(player, fila, columna, filaColocar1, columnaColocar1)
                     # Movimiento2
                    for fila2 in range(8):
                        for columna2 in range(6):
                            if copia_tablero_1.comprobarFicha(player, fila2, columna2):
                                posiblesMovimientos2 = copia_tablero_1.obtenerMovimiento2(fila2, columna2, player, filaColocar1)
                                for movimiento2 in posiblesMovimientos2:
                                    filaColocar2, columnaColocar2 = movimiento2
                                    copia_tablero_2 = Tablerolinja(copia_tablero_1.getMatrix())
                                    copia_tablero_2.moverFicha(player, fila2, columna2, filaColocar2, columnaColocar2)
                                    if len(successorMatrices)==0:
                                        successorMatrices.append(copia_tablero_2)
                                    elif (all(copia_tablero_2.utility() != mat.utility() for mat in successorMatrices)):
                                        successorMatrices.append(copia_tablero_2)
    return successorMatrices
"""
Explicacion: metodo para poner en funcionamiento miniMax
Args:
    state (Tablerolinja): estado del tablero actual 
    player (int): turno del jugador
Returns:
    Tablerolinja: devulve un estado del tablero
"""
def performActionMinMax(state: Tablerolinja, player: int)-> Tablerolinja:
    
    matrizB = state.getMatrix()
    tmpMatriz = [row[:] for row in matrizB]

    # Profundidad del MiniMax
    depth = 2

    matrizOptima = tmpMatriz
    stop = False
    currentLevel = 0
    itera = 0

    while not stop and itera <= 1:
        tmpMatrizB = Tablerolinja(tmpMatriz)
        (matrizOptima, valorOptimo, stop) = miniMax(tmpMatrizB, currentLevel, depth, player, -math.inf, math.inf, stop)
        itera += 1

    return matrizOptima

'''
Explicacion: Imprime el tablero en html
'''
def get_html():
    height = len(e1.getMatrix())
    width = len(e1.getMatrix()[0])

    # Establece un estilo CSS para centrar los números
    number_style = "style='text-align: center;'"
    
    html_string = "<style> img.game {width: 40px !important; height: 35px !important;}</style><table>"

    new_row = "<tr>"
    end_row = "</tr>"

    # Agregar encabezado de columna con números centrados
    html_string += "<tr><th colspan='" + str(width + 1) + "' " + number_style + ">Jugador " + str(turno) + "</th></tr>"
    html_string += "<tr><th colspan='" + str(width + 1) + "' " + number_style + ">Número de Movimiento: " + str(numMov) + "</th></tr>"
    if hayGanador==True:
        html_string += "<tr><th colspan='" + str(width + 1) + "' " + number_style + ">El ganador es el jugador " + str(e1.ganador()) + "</th></tr>"
    html_string += "<tr><th></th>"
    for col in range(width):
        html_string += f"<th {number_style}>{col}</th>"
    html_string += "</tr>"

    
    for i in range(height):
        html_string += new_row

        # Agregar encabezado de fila con número centrado
        html_string += f"<td {number_style}>{i}</td>"

        for j in range(width):
            content = get_content((i, j), e1.getMatrix(), element_image)

        # Verificar si la celda está en posiblesMovimientos
            if [i, j] in posiblesMovimientos:
                html = '<td><img class="game" src=%s alt=""></img></td>' % element_image["casillamarcada"]
            else:
                drawing = element_image[content[0]]
                html = '<td><img class="game" src=%s alt=""></img></td>' % drawing

            html_string += html
        html_string += end_row

    html_string += "</table>"

    return html_string

"""_
Expliacion: segun que cordenada te dice que color es la ficha
Args:
    corrd (_type_): coordenada de la celda
    matrix (_type): tablero 
    element_image (_type): elemeto de la imagen
Returns:
    _type_: que tipo de casilla es 
"""
def get_content(coord, matrix, element_image):
    
    
    contenido = [None]
    
    if matrix[coord[0]][coord[1]] == 0:
        contenido[0] = "casillavacia"
    elif matrix[coord[0]][coord[1]] == 1:
        contenido[0] = "casillanegra"
    elif matrix[coord[0]][coord[1]] == 2:
        contenido[0] = "casillaroja"
                   
    return contenido

'''
Explicacion: hace el 1º movimiento 
'''
def movimiento1():
    global numMov, posiblesMovimientos, filaPrimerMovimiento
    fila, columna = e1.recopilarCeldaOrigen()
    
    posiblesMovimientos = e1.obtenerMovimiento1(fila, columna, turno)

    while not e1.legalidadMovimiento(turno, fila, columna) or len(posiblesMovimientos) == 0:
        fila, columna = e1.recopilarCeldaOrigen()
        
        posiblesMovimientos = e1.obtenerMovimiento1(fila, columna, turno)

    clear_output(wait=True)
    display(HTML(get_html()))

    filaColocar, columnaColocar = e1.recopilarCeldaDestino()
    filaPrimerMovimiento=filaColocar
    
    while [filaColocar, columnaColocar] not in posiblesMovimientos:
        print("Celda destino no válida. Por favor, elige una celda válida.")
        filaColocar, columnaColocar = e1.recopilarCeldaDestino()

    e1.moverFicha(turno, fila, columna, filaColocar, columnaColocar)
    clear_output(wait=True)
    numMov = 2
    posiblesMovimientos.clear()
    display(HTML(get_html()))

'''
Explicacion: hace el 2º movimiento 
'''
def movimiento2():
    global numMov, posiblesMovimientos, filaPrimerMovimiento
    fila, columna = e1.recopilarCeldaOrigen()
    posiblesMovimientos = e1.obtenerMovimiento2(fila, columna, turno, filaPrimerMovimiento)
    
    
    if len(posiblesMovimientos) != 0:
        while not e1.legalidadMovimiento(turno, fila, columna) or len(posiblesMovimientos) == 0:
            fila, columna = e1.recopilarCeldaOrigen()
            posiblesMovimientos = e1.obtenerMovimiento2(fila, columna, turno, filaPrimerMovimiento)

        clear_output(wait=True)
        display(HTML(get_html()))
        filaColocar, columnaColocar = e1.recopilarCeldaDestino()
        
        while [filaColocar, columnaColocar] not in posiblesMovimientos:
            print("Celda destino no válida. Por favor, elige una celda válida.")
            filaColocar, columnaColocar = e1.recopilarCeldaDestino()

        e1.moverFicha(turno, fila, columna, filaColocar, columnaColocar)
        cambiarTurno()
        numMov = 1
        posiblesMovimientos.clear()
        clear_output(wait=True)
        display(HTML(get_html()))
        
    else:
        cambiarTurno()
        numMov = 1
        posiblesMovimientos.clear()
        clear_output(wait=True)
        display(HTML(get_html()))



"""
+-------------------------------------------+
|                                           |
|                   MAIN                    |
|                                           |
+-------------------------------------------+

"""

element_image = {
    "casillavacia": "./ImagenesCasillasLinja/CasillaVacia.png",
    "casillanegra": "./ImagenesCasillasLinja/CasillaNegra2.png",
    "casillaroja": "./ImagenesCasillasLinja/casillaRoja2.png",
    "casillamarcada": "./ImagenesCasillasLinja/CasillaMarcada.png"
}
tablero=[[1,1,1,1,1,1],
        [1,0,0,0,0,2],
        [1,0,0,0,0,2],
        [1,0,0,0,0,2],
        [1,0,0,0,0,2],
        [1,0,0,0,0,2],
        [1,0,0,0,0,2],
        [2,2,2,2,2,2]]
fila=0
columna=0
numMov=1
filaPrimerMovimiento=0
posiblesMovimientos=[]
e1=Tablerolinja(tablero)
turno=1
hayGanador=False
dobleTueno=0

display(HTML(get_html()))
while(True):
    if turno==1:
        if numMov==1:
            movimiento1()
            if e1.endGame():
                hayGanador=True
                clear_output(wait=True)
                display(HTML(get_html()))
                break
        elif numMov==2:
            movimiento2()
            if e1.endGame():
                hayGanador=True
                clear_output(wait=True)
                display(HTML(get_html()))
                break
    elif turno==2:
        
        e1.setMatrix(performActionMinMax(e1,turno))
        cambiarTurno()
        clear_output(wait=True)
        display(HTML(get_html()))
        
        if e1.endGame():
            hayGanador=True
            clear_output(wait=True)
            display(HTML(get_html()))
            break
